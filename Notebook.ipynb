{
 "cells": [
  {
   "cell_type": "code",
   "execution_count": 1,
   "metadata": {},
   "outputs": [
    {
     "data": {
      "text/plain": [
       "['plots/gt_vs_rb_corners.png',\n",
       " 'plots/mean_deviation.png',\n",
       " 'plots/max_deviation.png',\n",
       " 'plots/min_deviation.png']"
      ]
     },
     "execution_count": 1,
     "metadata": {},
     "output_type": "execute_result"
    }
   ],
   "source": [
    "from scripts.plotter import Plotter\n",
    "\n",
    "json_file = 'https://ai-process-sandy.s3.eu-west-1.amazonaws.com/purge/deviation.json'\n",
    "plotter = Plotter(json_file)\n",
    "plotter.df\n",
    "plot_paths = plotter.draw_plots()\n",
    "\n",
    "plot_paths\n"
   ]
  },
  {
   "cell_type": "code",
   "execution_count": null,
   "metadata": {},
   "outputs": [],
   "source": []
  },
  {
   "cell_type": "code",
   "execution_count": null,
   "metadata": {},
   "outputs": [],
   "source": []
  }
 ],
 "metadata": {
  "kernelspec": {
   "display_name": "Python 3 (ipykernel)",
   "language": "python",
   "name": "python3"
  },
  "language_info": {
   "codemirror_mode": {
    "name": "ipython",
    "version": 3
   },
   "file_extension": ".py",
   "mimetype": "text/x-python",
   "name": "python",
   "nbconvert_exporter": "python",
   "pygments_lexer": "ipython3",
   "version": "3.12.3"
  }
 },
 "nbformat": 4,
 "nbformat_minor": 4
}
